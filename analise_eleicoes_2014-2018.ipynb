{
 "cells": [
  {
   "source": [
    "# PARTIDOS COM MAIS DEPUTADOS FEDERAIS ELEITOS ENTRE 2010, 2014 e 2018"
   ],
   "cell_type": "markdown",
   "metadata": {}
  },
  {
   "source": [
    "## Análisado por [Jean Pierro](https://github.com/JeanLPierro) e [Rodrigo Prado](https://github.com/RodrigoPradoDaSilva)\n",
    "\n"
   ],
   "cell_type": "markdown",
   "metadata": {}
  },
  {
   "source": [
    "### Fatec - 6º BD/ 2020\n",
    "\n"
   ],
   "cell_type": "markdown",
   "metadata": {}
  },
  {
   "source": [
    "**Análise de quais partidos tiveram mais deputados eleitos entre 2010, 2014 e 2018**\n",
    "\n",
    "\n",
    "A cada quatro anos votamos e elegemos deputados federais, representantes da Câmara dos Deputados, uma das duas casas do poder legislativo federal no Brasil.\n",
    "\n",
    "Os deputados federais têm responsabilidades importantes como: propor, emendar, alterar, revogar, derrogar leis, leis complementares, emenda à Constituição Federal e propor emenda para a constituição de um novo Congresso Constituinte para confecção de nova Constituição. Tendo assim um impacto muito grande em nossas vidas.\n",
    "\n",
    "Esses deputados são eleitos a partir de um partido político, tendo cada partido seus pensamentos, ideologias e alianças. Por isso analisamos as eleições para deputados federais de 2010, 2014 e 2018, para podermos ter as informações de quais partidos tiveram mais deputados federais eleitos em cada ano, quais tiveram grandes mudanças em relação aos anos anteriores e entre outros dados que podemos conferir a seguir.  "
   ],
   "cell_type": "markdown",
   "metadata": {}
  },
  {
   "source": [
    "**Base de Dados :** \n",
    "    \n",
    "   + FGV CEPESP (2020). CepespData - Banco de Dados Políticos.\n",
    "   + Site: [CEPESP DATA](https://cepespdata.io)\n",
    "  \n"
   ],
   "cell_type": "markdown",
   "metadata": {}
  },
  {
   "source": [
    "## Importação das bibliotecas e base de dados utilizados nesta análise"
   ],
   "cell_type": "markdown",
   "metadata": {}
  },
  {
   "source": [
    "### Bibliotecas:"
   ],
   "cell_type": "markdown",
   "metadata": {}
  },
  {
   "cell_type": "code",
   "execution_count": 1,
   "metadata": {},
   "outputs": [],
   "source": [
    "import pandas as pd\n",
    "import matplotlib as mpl\n",
    "%matplotlib inline"
   ]
  },
  {
   "source": [
    "### Base de Dados:"
   ],
   "cell_type": "markdown",
   "metadata": {}
  },
  {
   "cell_type": "code",
   "execution_count": 2,
   "metadata": {},
   "outputs": [],
   "source": [
    "filename = r'C:\\Users\\JEANLUCCAPIERROSANTO\\Downloads\\dados_deput_eleitos\\TSE_DEPUTADO_FEDERAL_BR_CANDIDATO_2010_2018.csv'\n",
    "# Repositório local onde está armazenada a base de dados\n",
    "\n",
    "df = pd.read_csv(filename) # Lendo a base de dados"
   ]
  },
  {
   "source": [
    "df.shape"
   ],
   "cell_type": "code",
   "metadata": {},
   "execution_count": null,
   "outputs": []
  },
  {
   "cell_type": "code",
   "execution_count": 4,
   "metadata": {
    "scrolled": true
   },
   "outputs": [
    {
     "data": {
      "text/html": [
       "<div>\n",
       "<style scoped>\n",
       "    .dataframe tbody tr th:only-of-type {\n",
       "        vertical-align: middle;\n",
       "    }\n",
       "\n",
       "    .dataframe tbody tr th {\n",
       "        vertical-align: top;\n",
       "    }\n",
       "\n",
       "    .dataframe thead th {\n",
       "        text-align: right;\n",
       "    }\n",
       "</style>\n",
       "<table border=\"1\" class=\"dataframe\">\n",
       "  <thead>\n",
       "    <tr style=\"text-align: right;\">\n",
       "      <th></th>\n",
       "      <th>ANO_ELEICAO</th>\n",
       "      <th>NUM_TURNO</th>\n",
       "      <th>SIGLA_UE</th>\n",
       "      <th>DESCRICAO_CARGO</th>\n",
       "      <th>NOME_CANDIDATO</th>\n",
       "      <th>NUMERO_CANDIDATO</th>\n",
       "      <th>CPF_CANDIDATO</th>\n",
       "      <th>NUMERO_PARTIDO</th>\n",
       "      <th>SIGLA_PARTIDO</th>\n",
       "      <th>NUM_TITULO_ELEITORAL_CANDIDATO</th>\n",
       "      <th>DESC_SIT_TOT_TURNO</th>\n",
       "      <th>QTDE_VOTOS</th>\n",
       "    </tr>\n",
       "  </thead>\n",
       "  <tbody>\n",
       "    <tr>\n",
       "      <th>952</th>\n",
       "      <td>2014</td>\n",
       "      <td>1</td>\n",
       "      <td>MG</td>\n",
       "      <td>DEPUTADO FEDERAL</td>\n",
       "      <td>PATRUS ANANIAS DE SOUSA</td>\n",
       "      <td>1333</td>\n",
       "      <td>17486440687</td>\n",
       "      <td>13</td>\n",
       "      <td>PT</td>\n",
       "      <td>40883020272</td>\n",
       "      <td>ELEITO POR QP</td>\n",
       "      <td>147175</td>\n",
       "    </tr>\n",
       "    <tr>\n",
       "      <th>124</th>\n",
       "      <td>2010</td>\n",
       "      <td>1</td>\n",
       "      <td>PB</td>\n",
       "      <td>DEPUTADO FEDERAL</td>\n",
       "      <td>JOSE WILSON SANTIAGO FILHO</td>\n",
       "      <td>1511</td>\n",
       "      <td>2147279129</td>\n",
       "      <td>15</td>\n",
       "      <td>PMDB</td>\n",
       "      <td>38218491260</td>\n",
       "      <td>ELEITO</td>\n",
       "      <td>105822</td>\n",
       "    </tr>\n",
       "    <tr>\n",
       "      <th>120</th>\n",
       "      <td>2010</td>\n",
       "      <td>1</td>\n",
       "      <td>RS</td>\n",
       "      <td>DEPUTADO FEDERAL</td>\n",
       "      <td>JORGE ALBERTO PORTANOVA MENDES RIBEIRO FILHO</td>\n",
       "      <td>1510</td>\n",
       "      <td>16508513087</td>\n",
       "      <td>15</td>\n",
       "      <td>PMDB</td>\n",
       "      <td>49265430418</td>\n",
       "      <td>ELEITO</td>\n",
       "      <td>109775</td>\n",
       "    </tr>\n",
       "    <tr>\n",
       "      <th>144</th>\n",
       "      <td>2010</td>\n",
       "      <td>1</td>\n",
       "      <td>MG</td>\n",
       "      <td>DEPUTADO FEDERAL</td>\n",
       "      <td>NEWTON CARDOSO</td>\n",
       "      <td>1510</td>\n",
       "      <td>6815278620</td>\n",
       "      <td>15</td>\n",
       "      <td>PMDB</td>\n",
       "      <td>7124710264</td>\n",
       "      <td>ELEITO</td>\n",
       "      <td>137680</td>\n",
       "    </tr>\n",
       "    <tr>\n",
       "      <th>557</th>\n",
       "      <td>2014</td>\n",
       "      <td>1</td>\n",
       "      <td>RJ</td>\n",
       "      <td>DEPUTADO FEDERAL</td>\n",
       "      <td>MARCELO VIVIANI GONÇALVES</td>\n",
       "      <td>1200</td>\n",
       "      <td>90838920772</td>\n",
       "      <td>12</td>\n",
       "      <td>PDT</td>\n",
       "      <td>59302330302</td>\n",
       "      <td>ELEITO POR QP</td>\n",
       "      <td>47370</td>\n",
       "    </tr>\n",
       "    <tr>\n",
       "      <th>171</th>\n",
       "      <td>2010</td>\n",
       "      <td>1</td>\n",
       "      <td>MG</td>\n",
       "      <td>DEPUTADO FEDERAL</td>\n",
       "      <td>ANTONIO PINHEIRO JUNIOR</td>\n",
       "      <td>1122</td>\n",
       "      <td>37031074649</td>\n",
       "      <td>11</td>\n",
       "      <td>PP</td>\n",
       "      <td>35175590213</td>\n",
       "      <td>ELEITO</td>\n",
       "      <td>179649</td>\n",
       "    </tr>\n",
       "    <tr>\n",
       "      <th>929</th>\n",
       "      <td>2014</td>\n",
       "      <td>1</td>\n",
       "      <td>CE</td>\n",
       "      <td>DEPUTADO FEDERAL</td>\n",
       "      <td>JOSE NOBRE GUIMARÃES</td>\n",
       "      <td>1322</td>\n",
       "      <td>9324577387</td>\n",
       "      <td>13</td>\n",
       "      <td>PT</td>\n",
       "      <td>799920701</td>\n",
       "      <td>ELEITO POR QP</td>\n",
       "      <td>209032</td>\n",
       "    </tr>\n",
       "    <tr>\n",
       "      <th>950</th>\n",
       "      <td>2014</td>\n",
       "      <td>1</td>\n",
       "      <td>SP</td>\n",
       "      <td>DEPUTADO FEDERAL</td>\n",
       "      <td>NILTO IGNÁCIO TATTO</td>\n",
       "      <td>1353</td>\n",
       "      <td>3380916889</td>\n",
       "      <td>13</td>\n",
       "      <td>PT</td>\n",
       "      <td>116338510124</td>\n",
       "      <td>ELEITO POR QP</td>\n",
       "      <td>101196</td>\n",
       "    </tr>\n",
       "    <tr>\n",
       "      <th>220</th>\n",
       "      <td>2010</td>\n",
       "      <td>1</td>\n",
       "      <td>SP</td>\n",
       "      <td>DEPUTADO FEDERAL</td>\n",
       "      <td>ROBERTO JOAO PEREIRA FREIRE</td>\n",
       "      <td>2323</td>\n",
       "      <td>235369420</td>\n",
       "      <td>23</td>\n",
       "      <td>PPS</td>\n",
       "      <td>5763460809</td>\n",
       "      <td>ELEITO</td>\n",
       "      <td>121471</td>\n",
       "    </tr>\n",
       "    <tr>\n",
       "      <th>490</th>\n",
       "      <td>2010</td>\n",
       "      <td>1</td>\n",
       "      <td>AL</td>\n",
       "      <td>DEPUTADO FEDERAL</td>\n",
       "      <td>JOÃO JOSÉ PEREIRA DE LYRA</td>\n",
       "      <td>1478</td>\n",
       "      <td>341320404</td>\n",
       "      <td>14</td>\n",
       "      <td>PTB</td>\n",
       "      <td>24549191732</td>\n",
       "      <td>ELEITO</td>\n",
       "      <td>111104</td>\n",
       "    </tr>\n",
       "  </tbody>\n",
       "</table>\n",
       "</div>"
      ],
      "text/plain": [
       "     ANO_ELEICAO  NUM_TURNO SIGLA_UE   DESCRICAO_CARGO  \\\n",
       "952         2014          1       MG  DEPUTADO FEDERAL   \n",
       "124         2010          1       PB  DEPUTADO FEDERAL   \n",
       "120         2010          1       RS  DEPUTADO FEDERAL   \n",
       "144         2010          1       MG  DEPUTADO FEDERAL   \n",
       "557         2014          1       RJ  DEPUTADO FEDERAL   \n",
       "171         2010          1       MG  DEPUTADO FEDERAL   \n",
       "929         2014          1       CE  DEPUTADO FEDERAL   \n",
       "950         2014          1       SP  DEPUTADO FEDERAL   \n",
       "220         2010          1       SP  DEPUTADO FEDERAL   \n",
       "490         2010          1       AL  DEPUTADO FEDERAL   \n",
       "\n",
       "                                   NOME_CANDIDATO  NUMERO_CANDIDATO  \\\n",
       "952                       PATRUS ANANIAS DE SOUSA              1333   \n",
       "124                    JOSE WILSON SANTIAGO FILHO              1511   \n",
       "120  JORGE ALBERTO PORTANOVA MENDES RIBEIRO FILHO              1510   \n",
       "144                                NEWTON CARDOSO              1510   \n",
       "557                     MARCELO VIVIANI GONÇALVES              1200   \n",
       "171                       ANTONIO PINHEIRO JUNIOR              1122   \n",
       "929                          JOSE NOBRE GUIMARÃES              1322   \n",
       "950                           NILTO IGNÁCIO TATTO              1353   \n",
       "220                   ROBERTO JOAO PEREIRA FREIRE              2323   \n",
       "490                     JOÃO JOSÉ PEREIRA DE LYRA              1478   \n",
       "\n",
       "     CPF_CANDIDATO  NUMERO_PARTIDO SIGLA_PARTIDO  \\\n",
       "952    17486440687              13            PT   \n",
       "124     2147279129              15          PMDB   \n",
       "120    16508513087              15          PMDB   \n",
       "144     6815278620              15          PMDB   \n",
       "557    90838920772              12           PDT   \n",
       "171    37031074649              11            PP   \n",
       "929     9324577387              13            PT   \n",
       "950     3380916889              13            PT   \n",
       "220      235369420              23           PPS   \n",
       "490      341320404              14           PTB   \n",
       "\n",
       "     NUM_TITULO_ELEITORAL_CANDIDATO DESC_SIT_TOT_TURNO  QTDE_VOTOS  \n",
       "952                     40883020272      ELEITO POR QP      147175  \n",
       "124                     38218491260             ELEITO      105822  \n",
       "120                     49265430418             ELEITO      109775  \n",
       "144                      7124710264             ELEITO      137680  \n",
       "557                     59302330302      ELEITO POR QP       47370  \n",
       "171                     35175590213             ELEITO      179649  \n",
       "929                       799920701      ELEITO POR QP      209032  \n",
       "950                    116338510124      ELEITO POR QP      101196  \n",
       "220                      5763460809             ELEITO      121471  \n",
       "490                     24549191732             ELEITO      111104  "
      ]
     },
     "execution_count": 4,
     "metadata": {},
     "output_type": "execute_result"
    }
   ],
   "source": [
    "df.sample(10) # Exibindo o DataFrame"
   ]
  },
  {
   "source": [
    "## Analise: Quantidade de votos por partido em 2010."
   ],
   "cell_type": "markdown",
   "metadata": {}
  },
  {
   "cell_type": "code",
   "execution_count": 5,
   "metadata": {},
   "outputs": [],
   "source": [
    "df[\"QTDE_VOTOS\"] = df[\"QTDE_VOTOS\"].astype(float)"
   ]
  },
  {
   "cell_type": "code",
   "execution_count": 6,
   "metadata": {},
   "outputs": [
    {
     "data": {
      "text/html": [
       "<div>\n",
       "<style scoped>\n",
       "    .dataframe tbody tr th:only-of-type {\n",
       "        vertical-align: middle;\n",
       "    }\n",
       "\n",
       "    .dataframe tbody tr th {\n",
       "        vertical-align: top;\n",
       "    }\n",
       "\n",
       "    .dataframe thead th {\n",
       "        text-align: right;\n",
       "    }\n",
       "</style>\n",
       "<table border=\"1\" class=\"dataframe\">\n",
       "  <thead>\n",
       "    <tr style=\"text-align: right;\">\n",
       "      <th></th>\n",
       "      <th>QTDE_VOTOS</th>\n",
       "    </tr>\n",
       "    <tr>\n",
       "      <th>SIGLA_PARTIDO</th>\n",
       "      <th></th>\n",
       "    </tr>\n",
       "  </thead>\n",
       "  <tbody>\n",
       "    <tr>\n",
       "      <th>DEM</th>\n",
       "      <td>4550184.0</td>\n",
       "    </tr>\n",
       "    <tr>\n",
       "      <th>PC do B</th>\n",
       "      <td>1823077.0</td>\n",
       "    </tr>\n",
       "    <tr>\n",
       "      <th>PDT</th>\n",
       "      <td>2596556.0</td>\n",
       "    </tr>\n",
       "    <tr>\n",
       "      <th>PHS</th>\n",
       "      <td>96060.0</td>\n",
       "    </tr>\n",
       "    <tr>\n",
       "      <th>PMDB</th>\n",
       "      <td>8492579.0</td>\n",
       "    </tr>\n",
       "    <tr>\n",
       "      <th>PMN</th>\n",
       "      <td>446162.0</td>\n",
       "    </tr>\n",
       "    <tr>\n",
       "      <th>PP</th>\n",
       "      <td>5197306.0</td>\n",
       "    </tr>\n",
       "    <tr>\n",
       "      <th>PPS</th>\n",
       "      <td>1356469.0</td>\n",
       "    </tr>\n",
       "    <tr>\n",
       "      <th>PR</th>\n",
       "      <td>5889206.0</td>\n",
       "    </tr>\n",
       "    <tr>\n",
       "      <th>PRB</th>\n",
       "      <td>871461.0</td>\n",
       "    </tr>\n",
       "    <tr>\n",
       "      <th>PRP</th>\n",
       "      <td>47488.0</td>\n",
       "    </tr>\n",
       "    <tr>\n",
       "      <th>PRTB</th>\n",
       "      <td>50488.0</td>\n",
       "    </tr>\n",
       "    <tr>\n",
       "      <th>PSB</th>\n",
       "      <td>4737508.0</td>\n",
       "    </tr>\n",
       "    <tr>\n",
       "      <th>PSC</th>\n",
       "      <td>1859443.0</td>\n",
       "    </tr>\n",
       "    <tr>\n",
       "      <th>PSDB</th>\n",
       "      <td>6362262.0</td>\n",
       "    </tr>\n",
       "    <tr>\n",
       "      <th>PSL</th>\n",
       "      <td>40093.0</td>\n",
       "    </tr>\n",
       "    <tr>\n",
       "      <th>PSOL</th>\n",
       "      <td>442756.0</td>\n",
       "    </tr>\n",
       "    <tr>\n",
       "      <th>PT</th>\n",
       "      <td>10472717.0</td>\n",
       "    </tr>\n",
       "    <tr>\n",
       "      <th>PT do B</th>\n",
       "      <td>178734.0</td>\n",
       "    </tr>\n",
       "    <tr>\n",
       "      <th>PTB</th>\n",
       "      <td>2349527.0</td>\n",
       "    </tr>\n",
       "    <tr>\n",
       "      <th>PTC</th>\n",
       "      <td>104015.0</td>\n",
       "    </tr>\n",
       "    <tr>\n",
       "      <th>PV</th>\n",
       "      <td>1005770.0</td>\n",
       "    </tr>\n",
       "  </tbody>\n",
       "</table>\n",
       "</div>"
      ],
      "text/plain": [
       "               QTDE_VOTOS\n",
       "SIGLA_PARTIDO            \n",
       "DEM             4550184.0\n",
       "PC do B         1823077.0\n",
       "PDT             2596556.0\n",
       "PHS               96060.0\n",
       "PMDB            8492579.0\n",
       "PMN              446162.0\n",
       "PP              5197306.0\n",
       "PPS             1356469.0\n",
       "PR              5889206.0\n",
       "PRB              871461.0\n",
       "PRP               47488.0\n",
       "PRTB              50488.0\n",
       "PSB             4737508.0\n",
       "PSC             1859443.0\n",
       "PSDB            6362262.0\n",
       "PSL               40093.0\n",
       "PSOL             442756.0\n",
       "PT             10472717.0\n",
       "PT do B          178734.0\n",
       "PTB             2349527.0\n",
       "PTC              104015.0\n",
       "PV              1005770.0"
      ]
     },
     "execution_count": 6,
     "metadata": {},
     "output_type": "execute_result"
    }
   ],
   "source": [
    "sum_votos_2010 = df.query('ANO_ELEICAO == 2010').groupby(\"SIGLA_PARTIDO\").sum(\"QTDE_VOTOS\")\n",
    "sum_votos_2010.iloc[:, [6]]"
   ]
  },
  {
   "source": [
    "## Analise: 5 partidos mais votados em 2010"
   ],
   "cell_type": "markdown",
   "metadata": {}
  },
  {
   "cell_type": "code",
   "execution_count": 7,
   "metadata": {},
   "outputs": [
    {
     "data": {
      "text/html": [
       "<div>\n",
       "<style scoped>\n",
       "    .dataframe tbody tr th:only-of-type {\n",
       "        vertical-align: middle;\n",
       "    }\n",
       "\n",
       "    .dataframe tbody tr th {\n",
       "        vertical-align: top;\n",
       "    }\n",
       "\n",
       "    .dataframe thead th {\n",
       "        text-align: right;\n",
       "    }\n",
       "</style>\n",
       "<table border=\"1\" class=\"dataframe\">\n",
       "  <thead>\n",
       "    <tr style=\"text-align: right;\">\n",
       "      <th></th>\n",
       "      <th>QTDE_VOTOS</th>\n",
       "    </tr>\n",
       "    <tr>\n",
       "      <th>SIGLA_PARTIDO</th>\n",
       "      <th></th>\n",
       "    </tr>\n",
       "  </thead>\n",
       "  <tbody>\n",
       "    <tr>\n",
       "      <th>PT</th>\n",
       "      <td>10472717.0</td>\n",
       "    </tr>\n",
       "    <tr>\n",
       "      <th>PMDB</th>\n",
       "      <td>8492579.0</td>\n",
       "    </tr>\n",
       "    <tr>\n",
       "      <th>PSDB</th>\n",
       "      <td>6362262.0</td>\n",
       "    </tr>\n",
       "    <tr>\n",
       "      <th>PR</th>\n",
       "      <td>5889206.0</td>\n",
       "    </tr>\n",
       "    <tr>\n",
       "      <th>PP</th>\n",
       "      <td>5197306.0</td>\n",
       "    </tr>\n",
       "  </tbody>\n",
       "</table>\n",
       "</div>"
      ],
      "text/plain": [
       "               QTDE_VOTOS\n",
       "SIGLA_PARTIDO            \n",
       "PT             10472717.0\n",
       "PMDB            8492579.0\n",
       "PSDB            6362262.0\n",
       "PR              5889206.0\n",
       "PP              5197306.0"
      ]
     },
     "execution_count": 7,
     "metadata": {},
     "output_type": "execute_result"
    }
   ],
   "source": [
    "sum_votos_2010.nlargest(5, \"QTDE_VOTOS\").iloc[:, [6]]"
   ]
  },
  {
   "source": [
    "## Analise: Gráfico de candidatos eleitos por partido em 2010 "
   ],
   "cell_type": "markdown",
   "metadata": {}
  },
  {
   "cell_type": "code",
   "execution_count": 8,
   "metadata": {},
   "outputs": [
    {
     "data": {
      "text/plain": [
       "<AxesSubplot:title={'center':'Candidatos eleitos por partido - 2010'}, xlabel='SIGLA_PARTIDO'>"
      ]
     },
     "execution_count": 8,
     "metadata": {},
     "output_type": "execute_result"
    },
    {
     "data": {
      "image/png": "[encoded data removed]",
      "text/plain": [
       "<Figure size 432x288 with 1 Axes>"
      ]
     },
     "metadata": {
      "needs_background": "light"
     },
     "output_type": "display_data"
    }
   ],
   "source": [
    "df.query('ANO_ELEICAO == \"2010\"').groupby(\"SIGLA_PARTIDO\").size().sort_values(ascending=False).plot(kind='bar', title=\"Candidatos eleitos por partido - 2010\")"
   ]
  },
  {
   "source": [
    "## Analise: Quantidade de votos por partido em 2014."
   ],
   "cell_type": "markdown",
   "metadata": {}
  },
  {
   "cell_type": "code",
   "execution_count": 9,
   "metadata": {},
   "outputs": [
    {
     "data": {
      "text/html": [
       "<div>\n",
       "<style scoped>\n",
       "    .dataframe tbody tr th:only-of-type {\n",
       "        vertical-align: middle;\n",
       "    }\n",
       "\n",
       "    .dataframe tbody tr th {\n",
       "        vertical-align: top;\n",
       "    }\n",
       "\n",
       "    .dataframe thead th {\n",
       "        text-align: right;\n",
       "    }\n",
       "</style>\n",
       "<table border=\"1\" class=\"dataframe\">\n",
       "  <thead>\n",
       "    <tr style=\"text-align: right;\">\n",
       "      <th></th>\n",
       "      <th>QTDE_VOTOS</th>\n",
       "    </tr>\n",
       "    <tr>\n",
       "      <th>SIGLA_PARTIDO</th>\n",
       "      <th></th>\n",
       "    </tr>\n",
       "  </thead>\n",
       "  <tbody>\n",
       "    <tr>\n",
       "      <th>DEM</th>\n",
       "      <td>2743097.0</td>\n",
       "    </tr>\n",
       "    <tr>\n",
       "      <th>PC do B</th>\n",
       "      <td>908509.0</td>\n",
       "    </tr>\n",
       "    <tr>\n",
       "      <th>PDT</th>\n",
       "      <td>1821210.0</td>\n",
       "    </tr>\n",
       "    <tr>\n",
       "      <th>PEN</th>\n",
       "      <td>107841.0</td>\n",
       "    </tr>\n",
       "    <tr>\n",
       "      <th>PHS</th>\n",
       "      <td>297379.0</td>\n",
       "    </tr>\n",
       "    <tr>\n",
       "      <th>PMDB</th>\n",
       "      <td>7279016.0</td>\n",
       "    </tr>\n",
       "    <tr>\n",
       "      <th>PMN</th>\n",
       "      <td>133282.0</td>\n",
       "    </tr>\n",
       "    <tr>\n",
       "      <th>PP</th>\n",
       "      <td>5125389.0</td>\n",
       "    </tr>\n",
       "    <tr>\n",
       "      <th>PPS</th>\n",
       "      <td>1168957.0</td>\n",
       "    </tr>\n",
       "    <tr>\n",
       "      <th>PR</th>\n",
       "      <td>4323988.0</td>\n",
       "    </tr>\n",
       "    <tr>\n",
       "      <th>PRB</th>\n",
       "      <td>3076897.0</td>\n",
       "    </tr>\n",
       "    <tr>\n",
       "      <th>PROS</th>\n",
       "      <td>1077566.0</td>\n",
       "    </tr>\n",
       "    <tr>\n",
       "      <th>PRP</th>\n",
       "      <td>170865.0</td>\n",
       "    </tr>\n",
       "    <tr>\n",
       "      <th>PRTB</th>\n",
       "      <td>64435.0</td>\n",
       "    </tr>\n",
       "    <tr>\n",
       "      <th>PSB</th>\n",
       "      <td>3353611.0</td>\n",
       "    </tr>\n",
       "    <tr>\n",
       "      <th>PSC</th>\n",
       "      <td>1519918.0</td>\n",
       "    </tr>\n",
       "    <tr>\n",
       "      <th>PSD</th>\n",
       "      <td>3891277.0</td>\n",
       "    </tr>\n",
       "    <tr>\n",
       "      <th>PSDB</th>\n",
       "      <td>7488390.0</td>\n",
       "    </tr>\n",
       "    <tr>\n",
       "      <th>PSDC</th>\n",
       "      <td>83879.0</td>\n",
       "    </tr>\n",
       "    <tr>\n",
       "      <th>PSL</th>\n",
       "      <td>107734.0</td>\n",
       "    </tr>\n",
       "    <tr>\n",
       "      <th>PSOL</th>\n",
       "      <td>730097.0</td>\n",
       "    </tr>\n",
       "    <tr>\n",
       "      <th>PT</th>\n",
       "      <td>7317384.0</td>\n",
       "    </tr>\n",
       "    <tr>\n",
       "      <th>PT do B</th>\n",
       "      <td>173033.0</td>\n",
       "    </tr>\n",
       "    <tr>\n",
       "      <th>PTB</th>\n",
       "      <td>2480986.0</td>\n",
       "    </tr>\n",
       "    <tr>\n",
       "      <th>PTC</th>\n",
       "      <td>85285.0</td>\n",
       "    </tr>\n",
       "    <tr>\n",
       "      <th>PTN</th>\n",
       "      <td>431340.0</td>\n",
       "    </tr>\n",
       "    <tr>\n",
       "      <th>PV</th>\n",
       "      <td>626424.0</td>\n",
       "    </tr>\n",
       "    <tr>\n",
       "      <th>SD</th>\n",
       "      <td>1543706.0</td>\n",
       "    </tr>\n",
       "  </tbody>\n",
       "</table>\n",
       "</div>"
      ],
      "text/plain": [
       "               QTDE_VOTOS\n",
       "SIGLA_PARTIDO            \n",
       "DEM             2743097.0\n",
       "PC do B          908509.0\n",
       "PDT             1821210.0\n",
       "PEN              107841.0\n",
       "PHS              297379.0\n",
       "PMDB            7279016.0\n",
       "PMN              133282.0\n",
       "PP              5125389.0\n",
       "PPS             1168957.0\n",
       "PR              4323988.0\n",
       "PRB             3076897.0\n",
       "PROS            1077566.0\n",
       "PRP              170865.0\n",
       "PRTB              64435.0\n",
       "PSB             3353611.0\n",
       "PSC             1519918.0\n",
       "PSD             3891277.0\n",
       "PSDB            7488390.0\n",
       "PSDC              83879.0\n",
       "PSL              107734.0\n",
       "PSOL             730097.0\n",
       "PT              7317384.0\n",
       "PT do B          173033.0\n",
       "PTB             2480986.0\n",
       "PTC               85285.0\n",
       "PTN              431340.0\n",
       "PV               626424.0\n",
       "SD              1543706.0"
      ]
     },
     "execution_count": 9,
     "metadata": {},
     "output_type": "execute_result"
    }
   ],
   "source": [
    "sum_votos_2014 = df.query('ANO_ELEICAO == 2014').groupby(\"SIGLA_PARTIDO\").sum(\"QTDE_VOTOS\")\n",
    "sum_votos_2014.iloc[:, [6]]"
   ]
  },
  {
   "source": [
    "## Analise: 5 partidos mais votados em 2014"
   ],
   "cell_type": "markdown",
   "metadata": {}
  },
  {
   "cell_type": "code",
   "execution_count": 10,
   "metadata": {},
   "outputs": [
    {
     "data": {
      "text/html": [
       "<div>\n",
       "<style scoped>\n",
       "    .dataframe tbody tr th:only-of-type {\n",
       "        vertical-align: middle;\n",
       "    }\n",
       "\n",
       "    .dataframe tbody tr th {\n",
       "        vertical-align: top;\n",
       "    }\n",
       "\n",
       "    .dataframe thead th {\n",
       "        text-align: right;\n",
       "    }\n",
       "</style>\n",
       "<table border=\"1\" class=\"dataframe\">\n",
       "  <thead>\n",
       "    <tr style=\"text-align: right;\">\n",
       "      <th></th>\n",
       "      <th>QTDE_VOTOS</th>\n",
       "    </tr>\n",
       "    <tr>\n",
       "      <th>SIGLA_PARTIDO</th>\n",
       "      <th></th>\n",
       "    </tr>\n",
       "  </thead>\n",
       "  <tbody>\n",
       "    <tr>\n",
       "      <th>PSDB</th>\n",
       "      <td>7488390.0</td>\n",
       "    </tr>\n",
       "    <tr>\n",
       "      <th>PT</th>\n",
       "      <td>7317384.0</td>\n",
       "    </tr>\n",
       "    <tr>\n",
       "      <th>PMDB</th>\n",
       "      <td>7279016.0</td>\n",
       "    </tr>\n",
       "    <tr>\n",
       "      <th>PP</th>\n",
       "      <td>5125389.0</td>\n",
       "    </tr>\n",
       "    <tr>\n",
       "      <th>PR</th>\n",
       "      <td>4323988.0</td>\n",
       "    </tr>\n",
       "  </tbody>\n",
       "</table>\n",
       "</div>"
      ],
      "text/plain": [
       "               QTDE_VOTOS\n",
       "SIGLA_PARTIDO            \n",
       "PSDB            7488390.0\n",
       "PT              7317384.0\n",
       "PMDB            7279016.0\n",
       "PP              5125389.0\n",
       "PR              4323988.0"
      ]
     },
     "execution_count": 10,
     "metadata": {},
     "output_type": "execute_result"
    }
   ],
   "source": [
    "sum_votos_2014.nlargest(5, \"QTDE_VOTOS\").iloc[:, [6]]"
   ]
  },
  {
   "source": [
    "## Analise: Gráfico de candidatos eleitos por partido em 2010"
   ],
   "cell_type": "markdown",
   "metadata": {}
  },
  {
   "cell_type": "code",
   "execution_count": 11,
   "metadata": {},
   "outputs": [
    {
     "data": {
      "text/plain": [
       "<AxesSubplot:title={'center':'Candidatos eleitos por partido - 2014'}, xlabel='SIGLA_PARTIDO'>"
      ]
     },
     "execution_count": 11,
     "metadata": {},
     "output_type": "execute_result"
    },
    {
     "data": {
      "image/png": "[encoded data removed]",
      "text/plain": [
       "<Figure size 432x288 with 1 Axes>"
      ]
     },
     "metadata": {
      "needs_background": "light"
     },
     "output_type": "display_data"
    }
   ],
   "source": [
    "df.query('ANO_ELEICAO == \"2014\"').groupby(\"SIGLA_PARTIDO\").size().sort_values(ascending=False).plot(kind='bar', title=\"Candidatos eleitos por partido - 2014\")"
   ]
  },
  {
   "source": [
    "## Analise: Quantidade de votos por partido em 2018."
   ],
   "cell_type": "markdown",
   "metadata": {}
  },
  {
   "cell_type": "code",
   "execution_count": 12,
   "metadata": {},
   "outputs": [
    {
     "data": {
      "text/html": [
       "<div>\n",
       "<style scoped>\n",
       "    .dataframe tbody tr th:only-of-type {\n",
       "        vertical-align: middle;\n",
       "    }\n",
       "\n",
       "    .dataframe tbody tr th {\n",
       "        vertical-align: top;\n",
       "    }\n",
       "\n",
       "    .dataframe thead th {\n",
       "        text-align: right;\n",
       "    }\n",
       "</style>\n",
       "<table border=\"1\" class=\"dataframe\">\n",
       "  <thead>\n",
       "    <tr style=\"text-align: right;\">\n",
       "      <th></th>\n",
       "      <th>QTDE_VOTOS</th>\n",
       "    </tr>\n",
       "    <tr>\n",
       "      <th>SIGLA_PARTIDO</th>\n",
       "      <th></th>\n",
       "    </tr>\n",
       "  </thead>\n",
       "  <tbody>\n",
       "    <tr>\n",
       "      <th>AVANTE</th>\n",
       "      <td>676035.0</td>\n",
       "    </tr>\n",
       "    <tr>\n",
       "      <th>DC</th>\n",
       "      <td>50284.0</td>\n",
       "    </tr>\n",
       "    <tr>\n",
       "      <th>DEM</th>\n",
       "      <td>2922440.0</td>\n",
       "    </tr>\n",
       "    <tr>\n",
       "      <th>MDB</th>\n",
       "      <td>2869746.0</td>\n",
       "    </tr>\n",
       "    <tr>\n",
       "      <th>NOVO</th>\n",
       "      <td>882961.0</td>\n",
       "    </tr>\n",
       "    <tr>\n",
       "      <th>PATRI</th>\n",
       "      <td>421012.0</td>\n",
       "    </tr>\n",
       "    <tr>\n",
       "      <th>PC do B</th>\n",
       "      <td>713572.0</td>\n",
       "    </tr>\n",
       "    <tr>\n",
       "      <th>PDT</th>\n",
       "      <td>2569703.0</td>\n",
       "    </tr>\n",
       "    <tr>\n",
       "      <th>PHS</th>\n",
       "      <td>346852.0</td>\n",
       "    </tr>\n",
       "    <tr>\n",
       "      <th>PMN</th>\n",
       "      <td>270433.0</td>\n",
       "    </tr>\n",
       "    <tr>\n",
       "      <th>PODE</th>\n",
       "      <td>1163224.0</td>\n",
       "    </tr>\n",
       "    <tr>\n",
       "      <th>PP</th>\n",
       "      <td>3316348.0</td>\n",
       "    </tr>\n",
       "    <tr>\n",
       "      <th>PPL</th>\n",
       "      <td>66343.0</td>\n",
       "    </tr>\n",
       "    <tr>\n",
       "      <th>PPS</th>\n",
       "      <td>690037.0</td>\n",
       "    </tr>\n",
       "    <tr>\n",
       "      <th>PR</th>\n",
       "      <td>3810249.0</td>\n",
       "    </tr>\n",
       "    <tr>\n",
       "      <th>PRB</th>\n",
       "      <td>3269569.0</td>\n",
       "    </tr>\n",
       "    <tr>\n",
       "      <th>PROS</th>\n",
       "      <td>837453.0</td>\n",
       "    </tr>\n",
       "    <tr>\n",
       "      <th>PRP</th>\n",
       "      <td>229583.0</td>\n",
       "    </tr>\n",
       "    <tr>\n",
       "      <th>PSB</th>\n",
       "      <td>3341657.0</td>\n",
       "    </tr>\n",
       "    <tr>\n",
       "      <th>PSC</th>\n",
       "      <td>776834.0</td>\n",
       "    </tr>\n",
       "    <tr>\n",
       "      <th>PSD</th>\n",
       "      <td>3738568.0</td>\n",
       "    </tr>\n",
       "    <tr>\n",
       "      <th>PSDB</th>\n",
       "      <td>2598470.0</td>\n",
       "    </tr>\n",
       "    <tr>\n",
       "      <th>PSL</th>\n",
       "      <td>7607558.0</td>\n",
       "    </tr>\n",
       "    <tr>\n",
       "      <th>PSOL</th>\n",
       "      <td>1557490.0</td>\n",
       "    </tr>\n",
       "    <tr>\n",
       "      <th>PT</th>\n",
       "      <td>6132826.0</td>\n",
       "    </tr>\n",
       "    <tr>\n",
       "      <th>PTB</th>\n",
       "      <td>894351.0</td>\n",
       "    </tr>\n",
       "    <tr>\n",
       "      <th>PTC</th>\n",
       "      <td>196669.0</td>\n",
       "    </tr>\n",
       "    <tr>\n",
       "      <th>PV</th>\n",
       "      <td>508448.0</td>\n",
       "    </tr>\n",
       "    <tr>\n",
       "      <th>REDE</th>\n",
       "      <td>8491.0</td>\n",
       "    </tr>\n",
       "    <tr>\n",
       "      <th>SOLIDARIEDADE</th>\n",
       "      <td>849821.0</td>\n",
       "    </tr>\n",
       "  </tbody>\n",
       "</table>\n",
       "</div>"
      ],
      "text/plain": [
       "               QTDE_VOTOS\n",
       "SIGLA_PARTIDO            \n",
       "AVANTE           676035.0\n",
       "DC                50284.0\n",
       "DEM             2922440.0\n",
       "MDB             2869746.0\n",
       "NOVO             882961.0\n",
       "PATRI            421012.0\n",
       "PC do B          713572.0\n",
       "PDT             2569703.0\n",
       "PHS              346852.0\n",
       "PMN              270433.0\n",
       "PODE            1163224.0\n",
       "PP              3316348.0\n",
       "PPL               66343.0\n",
       "PPS              690037.0\n",
       "PR              3810249.0\n",
       "PRB             3269569.0\n",
       "PROS             837453.0\n",
       "PRP              229583.0\n",
       "PSB             3341657.0\n",
       "PSC              776834.0\n",
       "PSD             3738568.0\n",
       "PSDB            2598470.0\n",
       "PSL             7607558.0\n",
       "PSOL            1557490.0\n",
       "PT              6132826.0\n",
       "PTB              894351.0\n",
       "PTC              196669.0\n",
       "PV               508448.0\n",
       "REDE               8491.0\n",
       "SOLIDARIEDADE    849821.0"
      ]
     },
     "execution_count": 12,
     "metadata": {},
     "output_type": "execute_result"
    }
   ],
   "source": [
    "sum_votos_2018 = df.query('ANO_ELEICAO == 2018').groupby(\"SIGLA_PARTIDO\").sum(\"QTDE_VOTOS\")\n",
    "sum_votos_2018.iloc[:, [6]]"
   ]
  },
  {
   "source": [
    "## Analise: 5 partidos mais votados em 2018"
   ],
   "cell_type": "markdown",
   "metadata": {}
  },
  {
   "cell_type": "code",
   "execution_count": 13,
   "metadata": {},
   "outputs": [
    {
     "data": {
      "text/html": [
       "<div>\n",
       "<style scoped>\n",
       "    .dataframe tbody tr th:only-of-type {\n",
       "        vertical-align: middle;\n",
       "    }\n",
       "\n",
       "    .dataframe tbody tr th {\n",
       "        vertical-align: top;\n",
       "    }\n",
       "\n",
       "    .dataframe thead th {\n",
       "        text-align: right;\n",
       "    }\n",
       "</style>\n",
       "<table border=\"1\" class=\"dataframe\">\n",
       "  <thead>\n",
       "    <tr style=\"text-align: right;\">\n",
       "      <th></th>\n",
       "      <th>QTDE_VOTOS</th>\n",
       "    </tr>\n",
       "    <tr>\n",
       "      <th>SIGLA_PARTIDO</th>\n",
       "      <th></th>\n",
       "    </tr>\n",
       "  </thead>\n",
       "  <tbody>\n",
       "    <tr>\n",
       "      <th>PSL</th>\n",
       "      <td>7607558.0</td>\n",
       "    </tr>\n",
       "    <tr>\n",
       "      <th>PT</th>\n",
       "      <td>6132826.0</td>\n",
       "    </tr>\n",
       "    <tr>\n",
       "      <th>PR</th>\n",
       "      <td>3810249.0</td>\n",
       "    </tr>\n",
       "    <tr>\n",
       "      <th>PSD</th>\n",
       "      <td>3738568.0</td>\n",
       "    </tr>\n",
       "    <tr>\n",
       "      <th>PSB</th>\n",
       "      <td>3341657.0</td>\n",
       "    </tr>\n",
       "  </tbody>\n",
       "</table>\n",
       "</div>"
      ],
      "text/plain": [
       "               QTDE_VOTOS\n",
       "SIGLA_PARTIDO            \n",
       "PSL             7607558.0\n",
       "PT              6132826.0\n",
       "PR              3810249.0\n",
       "PSD             3738568.0\n",
       "PSB             3341657.0"
      ]
     },
     "execution_count": 13,
     "metadata": {},
     "output_type": "execute_result"
    }
   ],
   "source": [
    "sum_votos_2018.nlargest(5, \"QTDE_VOTOS\").iloc[:, [6]]"
   ]
  },
  {
   "source": [
    "## Analise: Gráfico de candidatos eleitos por partido em 2010"
   ],
   "cell_type": "markdown",
   "metadata": {}
  },
  {
   "cell_type": "code",
   "execution_count": 14,
   "metadata": {},
   "outputs": [
    {
     "data": {
      "text/plain": [
       "<AxesSubplot:title={'center':'Candidatos eleitos por partido - 2018'}, xlabel='SIGLA_PARTIDO'>"
      ]
     },
     "execution_count": 14,
     "metadata": {},
     "output_type": "execute_result"
    },
    {
     "data": {
      "image/png": "[encoded data removed]",
      "text/plain": [
       "<Figure size 432x288 with 1 Axes>"
      ]
     },
     "metadata": {
      "needs_background": "light"
     },
     "output_type": "display_data"
    }
   ],
   "source": [
    "df.query('ANO_ELEICAO == \"2018\"').groupby(\"SIGLA_PARTIDO\").size().sort_values(ascending=False).plot(kind='bar', title=\"Candidatos eleitos por partido - 2018\")"
   ]
  },
  {
   "source": [
    "## Análise das mudanças ocorridas com os 5 partidos mais votados em 2018, por quantidade de votos, periodo 2010 - 2018."
   ],
   "cell_type": "markdown",
   "metadata": {}
  },
  {
   "source": [
    "### Analise: Partido PSL de 2010 - 2018 "
   ],
   "cell_type": "markdown",
   "metadata": {}
  },
  {
   "cell_type": "code",
   "execution_count": 15,
   "metadata": {},
   "outputs": [
    {
     "data": {
      "text/plain": [
       "<AxesSubplot:title={'center':'Votos por eleição - PSL'}, xlabel='ANO_ELEICAO'>"
      ]
     },
     "execution_count": 15,
     "metadata": {},
     "output_type": "execute_result"
    },
    {
     "data": {
      "image/png": "[encoded data removed]",
      "text/plain": [
       "<Figure size 432x288 with 1 Axes>"
      ]
     },
     "metadata": {
      "needs_background": "light"
     },
     "output_type": "display_data"
    }
   ],
   "source": [
    "votos_psl_2010 = sum_votos_2010.loc['PSL', 'QTDE_VOTOS']\n",
    "votos_psl_2014 = sum_votos_2014.loc['PSL', 'QTDE_VOTOS']\n",
    "votos_psl_2018 = sum_votos_2018.loc['PSL', 'QTDE_VOTOS']\n",
    "tab_psl = pd.DataFrame(\n",
    "    {\"ANO_ELEICAO\" : ['2010', '2014', '2018'],\n",
    "     \"VOTOS\" : [votos_psl_2010, votos_psl_2014, votos_psl_2018]},\n",
    "    index = [1, 2, 3])\n",
    "tab_psl.plot(x=\"ANO_ELEICAO\", y=[\"VOTOS\"], title=\"Votos por eleição - PSL\")"
   ]
  },
  {
   "source": [
    "### Analise: Partido PT de 2010 - 2018 "
   ],
   "cell_type": "markdown",
   "metadata": {}
  },
  {
   "cell_type": "code",
   "execution_count": 16,
   "metadata": {},
   "outputs": [
    {
     "data": {
      "text/plain": [
       "<AxesSubplot:title={'center':'Votos por eleição - PT'}, xlabel='ANO_ELEICAO'>"
      ]
     },
     "execution_count": 16,
     "metadata": {},
     "output_type": "execute_result"
    },
    {
     "data": {
      "image/png": "[encoded data removed]",
      "text/plain": [
       "<Figure size 432x288 with 1 Axes>"
      ]
     },
     "metadata": {
      "needs_background": "light"
     },
     "output_type": "display_data"
    }
   ],
   "source": [
    "votos_pt_2010 = sum_votos_2010.loc['PT', 'QTDE_VOTOS']\n",
    "votos_pt_2014 = sum_votos_2014.loc['PT', 'QTDE_VOTOS']\n",
    "votos_pt_2018 = sum_votos_2018.loc['PT', 'QTDE_VOTOS']\n",
    "tab_pt = pd.DataFrame(\n",
    "    {\"ANO_ELEICAO\" : ['2010', '2014', '2018'],\n",
    "     \"VOTOS\" : [votos_pt_2010, votos_pt_2014, votos_pt_2018]},\n",
    "    index = [1, 2, 3])\n",
    "tab_pt.plot(x=\"ANO_ELEICAO\", y=[\"VOTOS\"], title=\"Votos por eleição - PT\")"
   ]
  },
  {
   "source": [
    "### Analise: Partido PR de 2010 - 2018 "
   ],
   "cell_type": "markdown",
   "metadata": {}
  },
  {
   "cell_type": "code",
   "execution_count": 17,
   "metadata": {},
   "outputs": [
    {
     "data": {
      "text/plain": [
       "<AxesSubplot:title={'center':'Votos por eleição - PR'}, xlabel='ANO_ELEICAO'>"
      ]
     },
     "execution_count": 17,
     "metadata": {},
     "output_type": "execute_result"
    },
    {
     "data": {
      "image/png": "[encoded data removed]",
      "text/plain": [
       "<Figure size 432x288 with 1 Axes>"
      ]
     },
     "metadata": {
      "needs_background": "light"
     },
     "output_type": "display_data"
    }
   ],
   "source": [
    "votos_pr_2010 = sum_votos_2010.loc['PR', 'QTDE_VOTOS']\n",
    "votos_pr_2014 = sum_votos_2014.loc['PR', 'QTDE_VOTOS']\n",
    "votos_pr_2018 = sum_votos_2018.loc['PR', 'QTDE_VOTOS']\n",
    "tab_pr = pd.DataFrame(\n",
    "    {\"ANO_ELEICAO\" : ['2010', '2014', '2018'],\n",
    "     \"VOTOS\" : [votos_pr_2010, votos_pr_2014, votos_pr_2018]},\n",
    "    index = [1, 2, 3])\n",
    "tab_pr.plot(x=\"ANO_ELEICAO\", y=[\"VOTOS\"], title=\"Votos por eleição - PR\")"
   ]
  },
  {
   "source": [
    "### Analise: Partido PSD de 2010 - 2018 "
   ],
   "cell_type": "markdown",
   "metadata": {}
  },
  {
   "cell_type": "code",
   "execution_count": 18,
   "metadata": {},
   "outputs": [
    {
     "data": {
      "text/plain": [
       "<AxesSubplot:title={'center':'Votos por eleição - PSD'}, xlabel='ANO_ELEICAO'>"
      ]
     },
     "execution_count": 18,
     "metadata": {},
     "output_type": "execute_result"
    },
    {
     "data": {
      "image/png": "[encoded data removed]",
      "text/plain": [
       "<Figure size 432x288 with 1 Axes>"
      ]
     },
     "metadata": {
      "needs_background": "light"
     },
     "output_type": "display_data"
    }
   ],
   "source": [
    "votos_psd_2010 = 0\n",
    "votos_psd_2014 = sum_votos_2014.loc['PSD', 'QTDE_VOTOS']\n",
    "votos_psd_2018 = sum_votos_2018.loc['PSD', 'QTDE_VOTOS']\n",
    "tab_psd = pd.DataFrame(\n",
    "    {\"ANO_ELEICAO\" : ['2010', '2014', '2018'],\n",
    "     \"VOTOS\" : [votos_psd_2010, votos_psd_2014, votos_psd_2018]},\n",
    "    index = [1, 2, 3])\n",
    "tab_psd.plot(x=\"ANO_ELEICAO\", y=[\"VOTOS\"], title=\"Votos por eleição - PSD\")"
   ]
  },
  {
   "source": [
    "### Analise: Partido PR de 2010 - 2018 "
   ],
   "cell_type": "markdown",
   "metadata": {}
  },
  {
   "cell_type": "code",
   "execution_count": 19,
   "metadata": {},
   "outputs": [
    {
     "data": {
      "text/plain": [
       "<AxesSubplot:title={'center':'Votos por eleição - PR'}, xlabel='ANO_ELEICAO'>"
      ]
     },
     "execution_count": 19,
     "metadata": {},
     "output_type": "execute_result"
    },
    {
     "data": {
      "image/png": "[encoded data removed]",
      "text/plain": [
       "<Figure size 432x288 with 1 Axes>"
      ]
     },
     "metadata": {
      "needs_background": "light"
     },
     "output_type": "display_data"
    }
   ],
   "source": [
    "votos_psb_2010 = sum_votos_2010.loc['PSB', 'QTDE_VOTOS']\n",
    "votos_psb_2014 = sum_votos_2014.loc['PSB', 'QTDE_VOTOS']\n",
    "votos_psb_2018 = sum_votos_2018.loc['PSB', 'QTDE_VOTOS']\n",
    "tab_psb = pd.DataFrame(\n",
    "    {\"ANO_ELEICAO\" : ['2010', '2014', '2018'],\n",
    "     \"VOTOS\" : [votos_psb_2010, votos_psb_2014, votos_psb_2018]},\n",
    "    index = [1, 2, 3])\n",
    "tab_psb.plot(x=\"ANO_ELEICAO\", y=[\"VOTOS\"], title=\"Votos por eleição - PR\")"
   ]
  },
  {
   "cell_type": "code",
   "execution_count": null,
   "metadata": {},
   "outputs": [],
   "source": []
  }
 ],
 "metadata": {
  "kernelspec": {
   "display_name": "Python 3",
   "language": "python",
   "name": "python3"
  },
  "language_info": {
   "codemirror_mode": {
    "name": "ipython",
    "version": 3
   },
   "file_extension": ".py",
   "mimetype": "text/x-python",
   "name": "python",
   "nbconvert_exporter": "python",
   "pygments_lexer": "ipython3",
   "version": "3.8.3"
  }
 },
 "nbformat": 4,
 "nbformat_minor": 4
}